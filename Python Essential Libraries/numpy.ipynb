{
 "cells": [
  {
   "cell_type": "code",
   "execution_count": 1,
   "id": "51abe259",
   "metadata": {},
   "outputs": [
    {
     "data": {
      "text/plain": [
       "array([0., 0., 0.])"
      ]
     },
     "execution_count": 1,
     "metadata": {},
     "output_type": "execute_result"
    }
   ],
   "source": [
    "import numpy as np\n",
    "\n",
    "np.zeros(3)"
   ]
  },
  {
   "cell_type": "code",
   "execution_count": 2,
   "id": "6601ed61",
   "metadata": {},
   "outputs": [
    {
     "data": {
      "text/plain": [
       "array([[1., 1.],\n",
       "       [1., 1.],\n",
       "       [1., 1.]])"
      ]
     },
     "execution_count": 2,
     "metadata": {},
     "output_type": "execute_result"
    }
   ],
   "source": [
    "np.ones((3,2)) #2D array"
   ]
  },
  {
   "cell_type": "code",
   "execution_count": 3,
   "id": "7b84fce7",
   "metadata": {},
   "outputs": [
    {
     "data": {
      "text/plain": [
       "array([1, 2, 3])"
      ]
     },
     "execution_count": 3,
     "metadata": {},
     "output_type": "execute_result"
    }
   ],
   "source": [
    "np.array([1, 2, 3])"
   ]
  },
  {
   "cell_type": "code",
   "execution_count": 6,
   "id": "4c135d66",
   "metadata": {},
   "outputs": [
    {
     "name": "stdout",
     "output_type": "stream",
     "text": [
      "[[1 2 3]\n",
      " [4 5 6]]\n"
     ]
    }
   ],
   "source": [
    "my_array = np.array([[1, 2, 3], [4, 5, 6]]) # 2 rows\n",
    "print(my_array)"
   ]
  },
  {
   "cell_type": "code",
   "execution_count": 7,
   "id": "9668a1e3",
   "metadata": {},
   "outputs": [
    {
     "data": {
      "text/plain": [
       "(2, 3)"
      ]
     },
     "execution_count": 7,
     "metadata": {},
     "output_type": "execute_result"
    }
   ],
   "source": [
    "my_array.shape"
   ]
  },
  {
   "cell_type": "code",
   "execution_count": 8,
   "id": "f427c73d",
   "metadata": {},
   "outputs": [
    {
     "name": "stdout",
     "output_type": "stream",
     "text": [
      "[[1]\n",
      " [2]\n",
      " [3]\n",
      " [4]\n",
      " [5]\n",
      " [6]]\n"
     ]
    }
   ],
   "source": [
    "my_array.shape = (6, 1)\n",
    "print(my_array)"
   ]
  },
  {
   "cell_type": "code",
   "execution_count": 9,
   "id": "e257953c",
   "metadata": {},
   "outputs": [
    {
     "name": "stdout",
     "output_type": "stream",
     "text": [
      "[2.         3.33333333 4.66666667 6.        ]\n"
     ]
    }
   ],
   "source": [
    "other_array = np.linspace(2, 6, 4)\n",
    "print(other_array)"
   ]
  },
  {
   "cell_type": "code",
   "execution_count": 12,
   "id": "66b82d8f",
   "metadata": {},
   "outputs": [
    {
     "name": "stdout",
     "output_type": "stream",
     "text": [
      "[3 4 5]\n"
     ]
    }
   ],
   "source": [
    "simple_array = np.array([1, 2, 3])\n",
    "print(simple_array + 2)"
   ]
  },
  {
   "cell_type": "code",
   "execution_count": 13,
   "id": "0ce5ace2",
   "metadata": {},
   "outputs": [
    {
     "data": {
      "text/plain": [
       "array([3, 6, 9])"
      ]
     },
     "execution_count": 13,
     "metadata": {},
     "output_type": "execute_result"
    }
   ],
   "source": [
    "simple_array * 3"
   ]
  },
  {
   "cell_type": "code",
   "execution_count": 16,
   "id": "8626fb28",
   "metadata": {},
   "outputs": [
    {
     "data": {
      "text/plain": [
       "array([2, 4, 6])"
      ]
     },
     "execution_count": 16,
     "metadata": {},
     "output_type": "execute_result"
    }
   ],
   "source": [
    "simple_array + simple_array"
   ]
  },
  {
   "cell_type": "code",
   "execution_count": 17,
   "id": "71ecb6ea",
   "metadata": {},
   "outputs": [
    {
     "data": {
      "text/plain": [
       "array([1, 4, 9])"
      ]
     },
     "execution_count": 17,
     "metadata": {},
     "output_type": "execute_result"
    }
   ],
   "source": [
    "simple_array * simple_array"
   ]
  },
  {
   "cell_type": "code",
   "execution_count": 18,
   "id": "50f56556",
   "metadata": {},
   "outputs": [
    {
     "data": {
      "text/plain": [
       "np.int64(14)"
      ]
     },
     "execution_count": 18,
     "metadata": {},
     "output_type": "execute_result"
    }
   ],
   "source": [
    "simple_array @ simple_array # dot product"
   ]
  },
  {
   "cell_type": "code",
   "execution_count": 21,
   "id": "d8ee5cac",
   "metadata": {},
   "outputs": [
    {
     "name": "stdout",
     "output_type": "stream",
     "text": [
      "sum 6\n",
      "Mean 2.0\n",
      "std 0.816496580927726\n",
      "Min 1\n",
      "Max 3\n",
      "Argmin 0\n",
      "Argmax 2\n"
     ]
    }
   ],
   "source": [
    "print(\"sum\", np.sum(simple_array))\n",
    "print(\"Mean\", np.mean(simple_array))\n",
    "print(\"std\", np.std(simple_array))\n",
    "print(\"Min\", np.min(simple_array))\n",
    "print(\"Max\", np.max(simple_array))\n",
    "print(\"Argmin\", np.argmin(simple_array))\n",
    "print(\"Argmax\", np.argmax(simple_array))"
   ]
  },
  {
   "cell_type": "code",
   "execution_count": 22,
   "id": "028301d7",
   "metadata": {},
   "outputs": [
    {
     "data": {
      "text/plain": [
       "array([ True,  True, False])"
      ]
     },
     "execution_count": 22,
     "metadata": {},
     "output_type": "execute_result"
    }
   ],
   "source": [
    "# Comparison\n",
    "simple_array < 3"
   ]
  },
  {
   "cell_type": "code",
   "execution_count": 23,
   "id": "d3d8731d",
   "metadata": {},
   "outputs": [
    {
     "data": {
      "text/plain": [
       "array([10, 10,  0])"
      ]
     },
     "execution_count": 23,
     "metadata": {},
     "output_type": "execute_result"
    }
   ],
   "source": [
    "np.where(simple_array < 3, 10, 0) # where smaller than 3, set 10, 0 otherwise"
   ]
  },
  {
   "cell_type": "code",
   "execution_count": 24,
   "id": "e9c80a02",
   "metadata": {},
   "outputs": [
    {
     "data": {
      "text/plain": [
       "array([1, 2])"
      ]
     },
     "execution_count": 24,
     "metadata": {},
     "output_type": "execute_result"
    }
   ],
   "source": [
    "simple_array[:2]"
   ]
  }
 ],
 "metadata": {
  "kernelspec": {
   "display_name": "Python 3",
   "language": "python",
   "name": "python3"
  },
  "language_info": {
   "codemirror_mode": {
    "name": "ipython",
    "version": 3
   },
   "file_extension": ".py",
   "mimetype": "text/x-python",
   "name": "python",
   "nbconvert_exporter": "python",
   "pygments_lexer": "ipython3",
   "version": "3.10.2"
  }
 },
 "nbformat": 4,
 "nbformat_minor": 5
}
