{
 "cells": [
  {
   "cell_type": "markdown",
   "id": "53a31a33",
   "metadata": {},
   "source": [
    "1. Sci-kit Learn, graet for machine learning.\n",
    "2. Keras , for deep learning\n",
    "3. Pandas, greate for managing large data sets\n",
    "4. SciPy, great for math, calculations & scientific calculations in general.\n",
    "5. Beatiful Soup, great for scraping data from web pages\n",
    "6. Pillow, great for image manupulation\n",
    "7. MoviePy, for video processing\n",
    "8. tkinter, for GUI's \n"
   ]
  }
 ],
 "metadata": {
  "language_info": {
   "name": "python"
  }
 },
 "nbformat": 4,
 "nbformat_minor": 5
}
