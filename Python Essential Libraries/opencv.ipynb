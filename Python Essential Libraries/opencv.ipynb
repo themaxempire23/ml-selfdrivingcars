{
 "cells": [
  {
   "cell_type": "code",
   "execution_count": 1,
   "id": "10bb05d1",
   "metadata": {},
   "outputs": [
    {
     "name": "stdout",
     "output_type": "stream",
     "text": [
      "Image type [[[ 86  80  73]\n",
      "  [ 86  80  73]\n",
      "  [ 86  80  73]\n",
      "  ...\n",
      "  [ 87  81  74]\n",
      "  [ 86  80  73]\n",
      "  [ 85  79  72]]\n",
      "\n",
      " [[ 86  80  73]\n",
      "  [ 86  80  73]\n",
      "  [ 86  80  73]\n",
      "  ...\n",
      "  [ 87  81  74]\n",
      "  [ 86  80  73]\n",
      "  [ 86  80  73]]\n",
      "\n",
      " [[ 86  80  73]\n",
      "  [ 86  80  73]\n",
      "  [ 87  81  74]\n",
      "  ...\n",
      "  [ 87  81  74]\n",
      "  [ 87  81  74]\n",
      "  [ 87  81  74]]\n",
      "\n",
      " ...\n",
      "\n",
      " [[104  98  91]\n",
      "  [104  98  91]\n",
      "  [104  98  91]\n",
      "  ...\n",
      "  [121 114 105]\n",
      "  [120 113 104]\n",
      "  [120 113 104]]\n",
      "\n",
      " [[103  97  90]\n",
      "  [103  97  90]\n",
      "  [104  98  91]\n",
      "  ...\n",
      "  [120 113 104]\n",
      "  [119 112 103]\n",
      "  [119 112 103]]\n",
      "\n",
      " [[103  97  90]\n",
      "  [103  97  90]\n",
      "  [103  97  90]\n",
      "  ...\n",
      "  [119 112 103]\n",
      "  [119 112 103]\n",
      "  [118 111 102]]]\n"
     ]
    },
    {
     "data": {
      "text/plain": [
       "-1"
      ]
     },
     "execution_count": 1,
     "metadata": {},
     "output_type": "execute_result"
    }
   ],
   "source": [
    "import cv2\n",
    "\n",
    "image = cv2.imread(\"AstonMcar.jpg\")\n",
    "print(\"Image type\",(image))\n",
    "cv2.imshow(\"Image name\", image)\n",
    "\n",
    "cv2.waitKey(0)"
   ]
  },
  {
   "cell_type": "code",
   "execution_count": null,
   "id": "0334ef2d",
   "metadata": {},
   "outputs": [
    {
     "ename": "NameError",
     "evalue": "name 'image' is not defined",
     "output_type": "error",
     "traceback": [
      "\u001b[1;31m---------------------------------------------------------------------------\u001b[0m",
      "\u001b[1;31mNameError\u001b[0m                                 Traceback (most recent call last)",
      "Cell \u001b[1;32mIn[2], line 4\u001b[0m\n\u001b[0;32m      1\u001b[0m \u001b[38;5;28;01mimport\u001b[39;00m \u001b[38;5;21;01mmatplotlib\u001b[39;00m\u001b[38;5;21;01m.\u001b[39;00m\u001b[38;5;21;01mpyplot\u001b[39;00m \u001b[38;5;28;01mas\u001b[39;00m \u001b[38;5;21;01mplt\u001b[39;00m\n\u001b[0;32m      2\u001b[0m get_ipython()\u001b[38;5;241m.\u001b[39mrun_line_magic(\u001b[38;5;124m'\u001b[39m\u001b[38;5;124mmatplotlib\u001b[39m\u001b[38;5;124m'\u001b[39m, \u001b[38;5;124m'\u001b[39m\u001b[38;5;124minline\u001b[39m\u001b[38;5;124m'\u001b[39m)\n\u001b[1;32m----> 4\u001b[0m plt\u001b[38;5;241m.\u001b[39mimshow(image)\n\u001b[0;32m      5\u001b[0m plt\u001b[38;5;241m.\u001b[39mshow()\n",
      "\u001b[1;31mNameError\u001b[0m: name 'image' is not defined"
     ]
    }
   ],
   "source": [
    "import matplotlib.pyplot as plt\n",
    "%matplotlib inline\n",
    "\n",
    "plt.imshow(image)\n",
    "plt.show()"
   ]
  },
  {
   "cell_type": "code",
   "execution_count": 3,
   "id": "77a02beb",
   "metadata": {},
   "outputs": [
    {
     "data": {
      "text/plain": [
       "<matplotlib.image.AxesImage at 0x2237f58da30>"
      ]
     },
     "execution_count": 3,
     "metadata": {},
     "output_type": "execute_result"
    }
   ],
   "source": [
    "#image_rgb = cv2.cvtColor(image, cv2.COLOR_BGR2GB)\n",
    "image_rgb = cv2.cvtColor(image, cv2.COLOR_BGR2RGB)\n",
    "plt.imshow(image_rgb)"
   ]
  }
 ],
 "metadata": {
  "kernelspec": {
   "display_name": "base",
   "language": "python",
   "name": "python3"
  },
  "language_info": {
   "codemirror_mode": {
    "name": "ipython",
    "version": 3
   },
   "file_extension": ".py",
   "mimetype": "text/x-python",
   "name": "python",
   "nbconvert_exporter": "python",
   "pygments_lexer": "ipython3",
   "version": "3.12.7"
  }
 },
 "nbformat": 4,
 "nbformat_minor": 5
}
